{
 "cells": [
  {
   "cell_type": "code",
   "execution_count": 12,
   "id": "f91407ad",
   "metadata": {},
   "outputs": [],
   "source": [
    "import pandas as pd\n",
    "import numpy as np\n",
    "import matplotlib.pyplot as plt\n",
    "import plotly.express as px\n",
    "\n",
    "plt.style.use ('fivethirtyeight')\n",
    "pd.set_option('display.max_columns', 500)\n",
    "color_plat = plt.rcParams['axes.prop_cycle'].by_key()['color']\n",
    "\n",
    "from fredapi import Fred\n",
    "\n",
    "fred_key = '43bca910790d539aa330b27b9c4f2d89'"
   ]
  },
  {
   "cell_type": "markdown",
   "id": "882453de",
   "metadata": {},
   "source": [
    " 1. Create the Fred Object"
   ]
  },
  {
   "cell_type": "code",
   "execution_count": 14,
   "id": "f20d0816",
   "metadata": {},
   "outputs": [],
   "source": [
    "fred = Fred(fred_key)"
   ]
  },
  {
   "cell_type": "markdown",
   "id": "bfeb6553",
   "metadata": {},
   "source": [
    "# 2. Search for economic data!"
   ]
  },
  {
   "cell_type": "code",
   "execution_count": 19,
   "id": "7972a0ec",
   "metadata": {},
   "outputs": [],
   "source": [
    "sp_search = fred.search('S&P', order_by='popularity')"
   ]
  },
  {
   "cell_type": "code",
   "execution_count": 20,
   "id": "bf2e98a0",
   "metadata": {},
   "outputs": [
    {
     "data": {
      "text/plain": [
       "(1000, 15)"
      ]
     },
     "execution_count": 20,
     "metadata": {},
     "output_type": "execute_result"
    }
   ],
   "source": [
    "sp_search.shape"
   ]
  },
  {
   "cell_type": "code",
   "execution_count": null,
   "id": "5f00498d",
   "metadata": {},
   "outputs": [],
   "source": []
  }
 ],
 "metadata": {
  "kernelspec": {
   "display_name": "Python 3 (ipykernel)",
   "language": "python",
   "name": "python3"
  },
  "language_info": {
   "codemirror_mode": {
    "name": "ipython",
    "version": 3
   },
   "file_extension": ".py",
   "mimetype": "text/x-python",
   "name": "python",
   "nbconvert_exporter": "python",
   "pygments_lexer": "ipython3",
   "version": "3.9.12"
  }
 },
 "nbformat": 4,
 "nbformat_minor": 5
}
