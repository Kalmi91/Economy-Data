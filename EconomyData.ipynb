{
 "cells": [
  {
   "cell_type": "code",
   "execution_count": 29,
   "id": "b3bc4cc7",
   "metadata": {},
   "outputs": [],
   "source": [
    "import pandas as pd\n",
    "import numpy as np\n",
    "import matplotlib.pyplot as plt\n",
    "import plotly.express as px\n",
    "\n",
    "plt.style.use ('fivethirtyeight')\n",
    "pd.set_option('display.max_columns', 500)\n",
    "color_plat = plt.rcParams['axes.prop_cycle'].by_key()['color']\n",
    "\n",
    "from fredapi import Fred\n",
    "\n",
    "fred_key = ''"
   ]
  },
  {
   "cell_type": "markdown",
   "id": "287dd2b2",
   "metadata": {},
   "source": [
    " 1. Create the Fred Object"
   ]
  },
  {
   "cell_type": "code",
   "execution_count": 14,
   "id": "c30e7ab3",
   "metadata": {},
   "outputs": [],
   "source": [
    "fred = Fred(fred_key)"
   ]
  },
  {
   "cell_type": "markdown",
   "id": "34af6871",
   "metadata": {},
   "source": [
    "# 2. Search for economic data!"
   ]
  },
  {
   "cell_type": "code",
   "execution_count": 19,
   "id": "01c0ffd7",
   "metadata": {},
   "outputs": [],
   "source": [
    "sp_search = fred.search('S&P', order_by='popularity')"
   ]
  },
  {
   "cell_type": "code",
   "execution_count": 20,
   "id": "bfd546a2",
   "metadata": {},
   "outputs": [
    {
     "data": {
      "text/plain": [
       "(1000, 15)"
      ]
     },
     "execution_count": 20,
     "metadata": {},
     "output_type": "execute_result"
    }
   ],
   "source": [
    "sp_search.shape"
   ]
  },
  {
   "cell_type": "code",
   "execution_count": 22,
   "id": "3702c29c",
   "metadata": {},
   "outputs": [
    {
     "data": {
      "text/html": [
       "<div>\n",
       "<style scoped>\n",
       "    .dataframe tbody tr th:only-of-type {\n",
       "        vertical-align: middle;\n",
       "    }\n",
       "\n",
       "    .dataframe tbody tr th {\n",
       "        vertical-align: top;\n",
       "    }\n",
       "\n",
       "    .dataframe thead th {\n",
       "        text-align: right;\n",
       "    }\n",
       "</style>\n",
       "<table border=\"1\" class=\"dataframe\">\n",
       "  <thead>\n",
       "    <tr style=\"text-align: right;\">\n",
       "      <th></th>\n",
       "      <th>id</th>\n",
       "      <th>realtime_start</th>\n",
       "      <th>realtime_end</th>\n",
       "      <th>title</th>\n",
       "      <th>observation_start</th>\n",
       "      <th>observation_end</th>\n",
       "      <th>frequency</th>\n",
       "      <th>frequency_short</th>\n",
       "      <th>units</th>\n",
       "      <th>units_short</th>\n",
       "      <th>seasonal_adjustment</th>\n",
       "      <th>seasonal_adjustment_short</th>\n",
       "      <th>last_updated</th>\n",
       "      <th>popularity</th>\n",
       "      <th>notes</th>\n",
       "    </tr>\n",
       "    <tr>\n",
       "      <th>series id</th>\n",
       "      <th></th>\n",
       "      <th></th>\n",
       "      <th></th>\n",
       "      <th></th>\n",
       "      <th></th>\n",
       "      <th></th>\n",
       "      <th></th>\n",
       "      <th></th>\n",
       "      <th></th>\n",
       "      <th></th>\n",
       "      <th></th>\n",
       "      <th></th>\n",
       "      <th></th>\n",
       "      <th></th>\n",
       "      <th></th>\n",
       "    </tr>\n",
       "  </thead>\n",
       "  <tbody>\n",
       "    <tr>\n",
       "      <th>BAMLH0A0HYM2</th>\n",
       "      <td>BAMLH0A0HYM2</td>\n",
       "      <td>2022-09-08</td>\n",
       "      <td>2022-09-08</td>\n",
       "      <td>ICE BofA US High Yield Index Option-Adjusted S...</td>\n",
       "      <td>1996-12-31</td>\n",
       "      <td>2022-09-07</td>\n",
       "      <td>Daily, Close</td>\n",
       "      <td>D</td>\n",
       "      <td>Percent</td>\n",
       "      <td>%</td>\n",
       "      <td>Not Seasonally Adjusted</td>\n",
       "      <td>NSA</td>\n",
       "      <td>2022-09-08 09:33:02-05:00</td>\n",
       "      <td>95</td>\n",
       "      <td>The ICE BofA Option-Adjusted Spreads (OASs) ar...</td>\n",
       "    </tr>\n",
       "  </tbody>\n",
       "</table>\n",
       "</div>"
      ],
      "text/plain": [
       "                        id realtime_start realtime_end  \\\n",
       "series id                                                \n",
       "BAMLH0A0HYM2  BAMLH0A0HYM2     2022-09-08   2022-09-08   \n",
       "\n",
       "                                                          title  \\\n",
       "series id                                                         \n",
       "BAMLH0A0HYM2  ICE BofA US High Yield Index Option-Adjusted S...   \n",
       "\n",
       "             observation_start observation_end     frequency frequency_short  \\\n",
       "series id                                                                      \n",
       "BAMLH0A0HYM2        1996-12-31      2022-09-07  Daily, Close               D   \n",
       "\n",
       "                units units_short      seasonal_adjustment  \\\n",
       "series id                                                    \n",
       "BAMLH0A0HYM2  Percent           %  Not Seasonally Adjusted   \n",
       "\n",
       "             seasonal_adjustment_short               last_updated popularity  \\\n",
       "series id                                                                      \n",
       "BAMLH0A0HYM2                       NSA  2022-09-08 09:33:02-05:00         95   \n",
       "\n",
       "                                                          notes  \n",
       "series id                                                        \n",
       "BAMLH0A0HYM2  The ICE BofA Option-Adjusted Spreads (OASs) ar...  "
      ]
     },
     "execution_count": 22,
     "metadata": {},
     "output_type": "execute_result"
    }
   ],
   "source": [
    "sp_search.head(1)"
   ]
  },
  {
   "cell_type": "markdown",
   "id": "9e8f969b",
   "metadata": {},
   "source": [
    "# 3. Pull Raw Data & Plot"
   ]
  },
  {
   "cell_type": "code",
   "execution_count": 25,
   "id": "0f8a6fd3",
   "metadata": {},
   "outputs": [],
   "source": [
    "sp500 = fred.get_series(series_id='SP500')"
   ]
  },
  {
   "cell_type": "code",
   "execution_count": 28,
   "id": "9dc55d6b",
   "metadata": {},
   "outputs": [
    {
     "data": {
      "text/plain": [
       "<AxesSubplot:title={'center':'S&P 500'}>"
      ]
     },
     "execution_count": 28,
     "metadata": {},
     "output_type": "execute_result"
    },
    {
     "data": {
      "image/png": "[encoded data removed]",
      "text/plain": [
       "<Figure size 720x360 with 1 Axes>"
      ]
     },
     "metadata": {},
     "output_type": "display_data"
    }
   ],
   "source": [
    "sp500.plot(figsize=(10, 5), title='S&P 500', lw=2)"
   ]
  },
  {
   "cell_type": "code",
   "execution_count": null,
   "id": "009a867c",
   "metadata": {},
   "outputs": [],
   "source": []
  },
  {
   "cell_type": "code",
   "execution_count": null,
   "id": "e2b44c06",
   "metadata": {},
   "outputs": [],
   "source": []
  },
  {
   "cell_type": "code",
   "execution_count": null,
   "id": "6905c88e",
   "metadata": {},
   "outputs": [],
   "source": []
  },
  {
   "cell_type": "code",
   "execution_count": null,
   "id": "b078dfe6",
   "metadata": {},
   "outputs": [],
   "source": []
  },
  {
   "cell_type": "code",
   "execution_count": null,
   "id": "c20d93b1",
   "metadata": {},
   "outputs": [],
   "source": []
  },
  {
   "cell_type": "code",
   "execution_count": null,
   "id": "d70f180b",
   "metadata": {},
   "outputs": [],
   "source": []
  },
  {
   "cell_type": "code",
   "execution_count": null,
   "id": "d3789d80",
   "metadata": {},
   "outputs": [],
   "source": []
  },
  {
   "cell_type": "code",
   "execution_count": null,
   "id": "dde3fa1d",
   "metadata": {},
   "outputs": [],
   "source": []
  },
  {
   "cell_type": "code",
   "execution_count": null,
   "id": "63b15c0d",
   "metadata": {},
   "outputs": [],
   "source": []
  },
  {
   "cell_type": "code",
   "execution_count": null,
   "id": "d86ccbb0",
   "metadata": {},
   "outputs": [],
   "source": []
  },
  {
   "cell_type": "code",
   "execution_count": null,
   "id": "588ab2d9",
   "metadata": {},
   "outputs": [],
   "source": []
  },
  {
   "cell_type": "code",
   "execution_count": null,
   "id": "e7a25f6f",
   "metadata": {},
   "outputs": [],
   "source": []
  },
  {
   "cell_type": "code",
   "execution_count": null,
   "id": "6e139fcd",
   "metadata": {},
   "outputs": [],
   "source": []
  }
 ],
 "metadata": {
  "kernelspec": {
   "display_name": "Python 3 (ipykernel)",
   "language": "python",
   "name": "python3"
  },
  "language_info": {
   "codemirror_mode": {
    "name": "ipython",
    "version": 3
   },
   "file_extension": ".py",
   "mimetype": "text/x-python",
   "name": "python",
   "nbconvert_exporter": "python",
   "pygments_lexer": "ipython3",
   "version": "3.9.12"
  }
 },
 "nbformat": 4,
 "nbformat_minor": 5
}
